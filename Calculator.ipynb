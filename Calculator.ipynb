{
  "metadata": {
    "kernelspec": {
      "language": "python",
      "display_name": "Python 3",
      "name": "python3"
    },
    "language_info": {
      "pygments_lexer": "ipython3",
      "nbconvert_exporter": "python",
      "version": "3.6.4",
      "file_extension": ".py",
      "codemirror_mode": {
        "name": "ipython",
        "version": 3
      },
      "name": "python",
      "mimetype": "text/x-python"
    },
    "colab": {
      "name": "notebook54c0106813 ecb768",
      "provenance": []
    }
  },
  "nbformat_minor": 0,
  "nbformat": 4,
  "cells": [
    {
      "source": [
        "\n",
        "\n",
        "import os\n",
        "import sys\n",
        "from tempfile import NamedTemporaryFile\n",
        "from urllib.request import urlopen\n",
        "from urllib.parse import unquote, urlparse\n",
        "from urllib.error import HTTPError\n",
        "from zipfile import ZipFile\n",
        "import tarfile\n",
        "import shutil\n",
        "\n",
        "CHUNK_SIZE = 40960\n",
        "DATA_SOURCE_MAPPING = 'calculator:https%3A%2F%2Fstorage.googleapis.com%2Fkaggle-data-sets%2F1432756%2F2371392%2Fbundle%2Farchive.zip%3FX-Goog-Algorithm%3DGOOG4-RSA-SHA256%26X-Goog-Credential%3Dgcp-kaggle-com%2540kaggle-161607.iam.gserviceaccount.com%252F20240430%252Fauto%252Fstorage%252Fgoog4_request%26X-Goog-Date%3D20240430T232831Z%26X-Goog-Expires%3D259200%26X-Goog-SignedHeaders%3Dhost%26X-Goog-Signature%3D3382ccb7d49d316873f83b519d7858bf53d19e56341591a1e8e7e44a0711084e10978cf1e08bb85a8d4119f10fd2fd173995773c6328537ab9dc2bf7196f5872238663169ddd7b9941d366d62f5fa1b5e7e13ce4a3e930e593196f5bd8534b13e5288113c8404c3c509c993c39b5b39b01ceb1b9268d041fff6298a58708377242f6829e57305ae765887dec4898dbcf2ec7c06430d98c807080656e907f88ebbfeca7fdb702731d8a55c3ccee523ae216c96bf1011c89a4d98531b4d7bafd973d9789ed3350781a94e79da274cd26c197b9ecb6b1d8b2f7eb9415337dd2072182f90d35f7fa6b76f979a6e35ca90351a95fbdbed10440e86b5ae43e0eeef163,-testeqn:https%3A%2F%2Fstorage.googleapis.com%2Fkaggle-data-sets%2F1435768%2F2376045%2Fbundle%2Farchive.zip%3FX-Goog-Algorithm%3DGOOG4-RSA-SHA256%26X-Goog-Credential%3Dgcp-kaggle-com%2540kaggle-161607.iam.gserviceaccount.com%252F20240430%252Fauto%252Fstorage%252Fgoog4_request%26X-Goog-Date%3D20240430T232831Z%26X-Goog-Expires%3D259200%26X-Goog-SignedHeaders%3Dhost%26X-Goog-Signature%3D42e8bc43fcfb6fbb70d07a666fdcef3d014a9fedeea6499a2ab938f92358335ffa656dfc3837b6fa6bf2ebad04c32f55dc878208f480aa5abcf0a3ed75d4503e1b34c6105e2b464508cd510cfa2db312d4d96d55bb1ba229dd00db945dd4530036be638f8ac88d095f349bcc8eed187ad8e3b3a443d3713f76e2aa0c4b3a00199e32b970ac224aeed887c759f5a22d095569d5d8e096d4b311dca25d9afa3f892837ed1ad93b98d4d7166770003adf3711e7db4050a4f207dbf272e0690a89e14064f7305c932d112b2eca9a69234090c5c994d7d590c3dfaec5dc0032f8143a84e1c857de9f34f9322d47ebb0c7e047e242e09ec02152329e88d427ef9a2226,d/sujal013/testeqn:https%3A%2F%2Fstorage.googleapis.com%2Fkaggle-data-sets%2F1435776%2F2376177%2Fbundle%2Farchive.zip%3FX-Goog-Algorithm%3DGOOG4-RSA-SHA256%26X-Goog-Credential%3Dgcp-kaggle-com%2540kaggle-161607.iam.gserviceaccount.com%252F20240430%252Fauto%252Fstorage%252Fgoog4_request%26X-Goog-Date%3D20240430T232832Z%26X-Goog-Expires%3D259200%26X-Goog-SignedHeaders%3Dhost%26X-Goog-Signature%3D7fcc10844d8479d5c18e0e625f166ff5d7b3be9ae79fdb63d08412c4668a9627aca98ff118b7c1b9b151b69178d90647aeb4483c1814ddc879412b541f816c1bd301fd919bd1d11b1b79caecaa1157ba9bd62689b94110d8f30079f268b337e86eb324de8ea8dcba804322fdb624df88d5913eeecf77d58d349ca9695690ca38387a7b175eff25c75bd0fcfcb9828e0e08c19da2c22ea2aee5f22766caa949aac7c512238a0280be1776f1b9b016a8bcc3ce192d26510d41f86b26ad307a8f3259dd80e13644fe95487fb06fe3eee6f432889f1df9668a543a2c4118e7d62147d9d38362b68f579ec65923fe091fe3edd37016bf6847f809c255d3c849b6760d,testinput:https%3A%2F%2Fstorage.googleapis.com%2Fkaggle-data-sets%2F1435886%2F2376220%2Fbundle%2Farchive.zip%3FX-Goog-Algorithm%3DGOOG4-RSA-SHA256%26X-Goog-Credential%3Dgcp-kaggle-com%2540kaggle-161607.iam.gserviceaccount.com%252F20240430%252Fauto%252Fstorage%252Fgoog4_request%26X-Goog-Date%3D20240430T232832Z%26X-Goog-Expires%3D259200%26X-Goog-SignedHeaders%3Dhost%26X-Goog-Signature%3D2979d271df154a74927cf5975ae18e08f16839498840ff7396eae32f2c734c8e011f16b250a05d91efb7d58e1e06fdaa0adf36c12eb58392176d08bc993ff1e9c03910e37125167c28f8623f308f880c96ba7e91dc63ebc25bfedfcd05f5f8e9059ecd7734619a5e5561be099b289096a4790149654d4a47cd2553412473c7d0d87d6baf620c71a8caab794508db70811a9161d675fd277c820c3b0ddf595b144db382980e7d4def2a1f9269e27e78540e0ea7dc8ae3d1913a787d3706a4346ce34173028c423af4c1501d291818804d32ae7af09eaf5e7c985dae2c58ba98d5b3443e4d833b71e3d332db11751f6e1ce02b3ff6067446cafffd59fb0618eee8'\n",
        "\n",
        "KAGGLE_INPUT_PATH='/kaggle/input'\n",
        "KAGGLE_WORKING_PATH='/kaggle/working'\n",
        "KAGGLE_SYMLINK='kaggle'\n",
        "\n",
        "!umount /kaggle/input/ 2> /dev/null\n",
        "shutil.rmtree('/kaggle/input', ignore_errors=True)\n",
        "os.makedirs(KAGGLE_INPUT_PATH, 0o777, exist_ok=True)\n",
        "os.makedirs(KAGGLE_WORKING_PATH, 0o777, exist_ok=True)\n",
        "\n",
        "try:\n",
        "  os.symlink(KAGGLE_INPUT_PATH, os.path.join(\"..\", 'input'), target_is_directory=True)\n",
        "except FileExistsError:\n",
        "  pass\n",
        "try:\n",
        "  os.symlink(KAGGLE_WORKING_PATH, os.path.join(\"..\", 'working'), target_is_directory=True)\n",
        "except FileExistsError:\n",
        "  pass\n",
        "\n",
        "for data_source_mapping in DATA_SOURCE_MAPPING.split(','):\n",
        "    directory, download_url_encoded = data_source_mapping.split(':')\n",
        "    download_url = unquote(download_url_encoded)\n",
        "    filename = urlparse(download_url).path\n",
        "    destination_path = os.path.join(KAGGLE_INPUT_PATH, directory)\n",
        "    try:\n",
        "        with urlopen(download_url) as fileres, NamedTemporaryFile() as tfile:\n",
        "            total_length = fileres.headers['content-length']\n",
        "            print(f'Downloading {directory}, {total_length} bytes compressed')\n",
        "            dl = 0\n",
        "            data = fileres.read(CHUNK_SIZE)\n",
        "            while len(data) > 0:\n",
        "                dl += len(data)\n",
        "                tfile.write(data)\n",
        "                done = int(50 * dl / int(total_length))\n",
        "                sys.stdout.write(f\"\\r[{'=' * done}{' ' * (50-done)}] {dl} bytes downloaded\")\n",
        "                sys.stdout.flush()\n",
        "                data = fileres.read(CHUNK_SIZE)\n",
        "            if filename.endswith('.zip'):\n",
        "              with ZipFile(tfile) as zfile:\n",
        "                zfile.extractall(destination_path)\n",
        "            else:\n",
        "              with tarfile.open(tfile.name) as tarfile:\n",
        "                tarfile.extractall(destination_path)\n",
        "            print(f'\\nDownloaded and uncompressed: {directory}')\n",
        "    except HTTPError as e:\n",
        "        print(f'Failed to load (likely expired) {download_url} to path {destination_path}')\n",
        "        continue\n",
        "    except OSError as e:\n",
        "        print(f'Failed to load {download_url} to path {destination_path}')\n",
        "        continue\n",
        "\n",
        "print('Data source import complete.')\n"
      ],
      "metadata": {
        "id": "BJXuxEyaVuzz"
      },
      "cell_type": "code",
      "outputs": [],
      "execution_count": null
    },
    {
      "cell_type": "code",
      "source": [
        "# importing libraries used for the model\n",
        "!pip install imutils\n",
        "import numpy as np\n",
        "import pandas as pd\n",
        "import cv2\n",
        "import tensorflow as tf\n",
        "import matplotlib.pyplot as plt\n",
        "from imutils.contours import sort_contours\n",
        "import imutils"
      ],
      "metadata": {
        "execution": {
          "iopub.status.busy": "2021-06-29T11:06:27.011024Z",
          "iopub.execute_input": "2021-06-29T11:06:27.01141Z",
          "iopub.status.idle": "2021-06-29T11:06:40.543353Z",
          "shell.execute_reply.started": "2021-06-29T11:06:27.011333Z",
          "shell.execute_reply": "2021-06-29T11:06:40.542369Z"
        },
        "trusted": true,
        "id": "nLOrYMj9Vuz3"
      },
      "execution_count": null,
      "outputs": []
    },
    {
      "cell_type": "code",
      "source": [
        "# using keras for building the architecture of convolutional neural net\n",
        "from keras.models import Sequential\n",
        "from keras.layers import Conv2D\n",
        "from keras.layers import MaxPooling2D\n",
        "from keras.layers import Dense\n",
        "from keras.layers import Flatten\n",
        "from keras.optimizers import SGD\n",
        "from keras.preprocessing.image import ImageDataGenerator\n",
        "import os"
      ],
      "metadata": {
        "execution": {
          "iopub.status.busy": "2021-06-29T11:06:40.544842Z",
          "iopub.execute_input": "2021-06-29T11:06:40.545156Z",
          "iopub.status.idle": "2021-06-29T11:06:40.594904Z",
          "shell.execute_reply.started": "2021-06-29T11:06:40.545121Z",
          "shell.execute_reply": "2021-06-29T11:06:40.594232Z"
        },
        "trusted": true,
        "id": "8xAz2jbqVuz3"
      },
      "execution_count": null,
      "outputs": []
    },
    {
      "cell_type": "code",
      "source": [
        "# loading training and validation data\n",
        "train_datagen = ImageDataGenerator(\n",
        "    rescale = 1./255,\n",
        "    shear_range = 0.2,\n",
        "    zoom_range = 0.2,\n",
        "    validation_split = 0.25\n",
        ")\n",
        "\n",
        "data_path='../input/calculator/All data (Compressed)'\n",
        "train_set = train_datagen.flow_from_directory(\n",
        "    data_path,\n",
        "    target_size = (40, 40),\n",
        "    color_mode = 'grayscale',\n",
        "    batch_size = 32,\n",
        "    class_mode = 'categorical',\n",
        "    shuffle = True,\n",
        "    subset='training',\n",
        "    seed = 123\n",
        ")\n",
        "valid_set = train_datagen.flow_from_directory(\n",
        "    data_path,\n",
        "    target_size = (40, 40),\n",
        "    color_mode = 'grayscale',\n",
        "    batch_size = 32,\n",
        "    class_mode = 'categorical',\n",
        "    shuffle = True,\n",
        "    subset='validation',\n",
        "    seed = 123\n",
        ")"
      ],
      "metadata": {
        "execution": {
          "iopub.status.busy": "2021-06-29T11:06:45.617075Z",
          "iopub.execute_input": "2021-06-29T11:06:45.617403Z",
          "iopub.status.idle": "2021-06-29T11:15:09.625345Z",
          "shell.execute_reply.started": "2021-06-29T11:06:45.617373Z",
          "shell.execute_reply": "2021-06-29T11:15:09.624485Z"
        },
        "trusted": true,
        "id": "c6kwHNnRVuz4"
      },
      "execution_count": null,
      "outputs": []
    },
    {
      "cell_type": "code",
      "source": [
        "# model architecture\n",
        "model = Sequential()\n",
        "model.add(Conv2D(32, (3, 3), activation='relu', input_shape=(40, 40, 1)))\n",
        "model.add(MaxPooling2D((2, 2)))\n",
        "model.add(Conv2D(64, (3, 3), activation='relu'))\n",
        "model.add(MaxPooling2D((2, 2)))\n",
        "model.add(Flatten())\n",
        "model.add(Dense(128, activation='relu'))\n",
        "model.add(Dense(16, activation='softmax'))\n",
        "adam = tf.keras.optimizers.Adam(lr = 5e-4)\n",
        "model.compile(optimizer=adam, loss='categorical_crossentropy', metrics=['accuracy'])\n"
      ],
      "metadata": {
        "execution": {
          "iopub.status.busy": "2021-06-29T11:15:09.629408Z",
          "iopub.execute_input": "2021-06-29T11:15:09.631393Z",
          "iopub.status.idle": "2021-06-29T11:15:11.647979Z",
          "shell.execute_reply.started": "2021-06-29T11:15:09.631353Z",
          "shell.execute_reply": "2021-06-29T11:15:11.647193Z"
        },
        "trusted": true,
        "id": "eGrEm0qQVuz4"
      },
      "execution_count": null,
      "outputs": []
    },
    {
      "cell_type": "code",
      "source": [
        "# calculate loss and accuracy on both training and validation set\n",
        "model.fit(train_set,validation_data=valid_set,epochs=2, verbose=1)"
      ],
      "metadata": {
        "execution": {
          "iopub.status.busy": "2021-06-29T13:03:31.59248Z",
          "iopub.execute_input": "2021-06-29T13:03:31.592815Z",
          "iopub.status.idle": "2021-06-29T13:24:10.038952Z",
          "shell.execute_reply.started": "2021-06-29T13:03:31.592783Z",
          "shell.execute_reply": "2021-06-29T13:24:10.038155Z"
        },
        "trusted": true,
        "id": "yPVlzUlpVuz4"
      },
      "execution_count": null,
      "outputs": []
    },
    {
      "cell_type": "code",
      "source": [
        "def prediction(img):\n",
        "    plt.imshow(img, cmap = 'gray')\n",
        "    img = cv2.resize(img,(40, 40))\n",
        "    norm_image = cv2.normalize(img, None, alpha = 0, beta = 1, norm_type = cv2.NORM_MINMAX, dtype = cv2.CV_32F)\n",
        "    norm_image = norm_image.reshape((norm_image.shape[0], norm_image.shape[1], 1))\n",
        "    case = np.asarray([norm_image])\n",
        "    pred = model.predict_classes([case])\n",
        "    print(pred)\n",
        "\n",
        "    return ([i for i in train_set.class_indices if train_set.class_indices[i]==(pred[0])][0],pred)"
      ],
      "metadata": {
        "execution": {
          "iopub.status.busy": "2021-06-29T13:26:02.938152Z",
          "iopub.execute_input": "2021-06-29T13:26:02.938525Z",
          "iopub.status.idle": "2021-06-29T13:26:02.945266Z",
          "shell.execute_reply.started": "2021-06-29T13:26:02.938495Z",
          "shell.execute_reply": "2021-06-29T13:26:02.944199Z"
        },
        "trusted": true,
        "id": "CQ7BBOyoVuz4"
      },
      "execution_count": null,
      "outputs": []
    },
    {
      "cell_type": "code",
      "source": [
        "label_map = (train_set.class_indices)\n",
        "label_map"
      ],
      "metadata": {
        "execution": {
          "iopub.status.busy": "2021-06-29T13:26:05.808455Z",
          "iopub.execute_input": "2021-06-29T13:26:05.80878Z",
          "iopub.status.idle": "2021-06-29T13:26:05.814279Z",
          "shell.execute_reply.started": "2021-06-29T13:26:05.808748Z",
          "shell.execute_reply": "2021-06-29T13:26:05.81344Z"
        },
        "trusted": true,
        "id": "y9HV3Ws0Vuz5"
      },
      "execution_count": null,
      "outputs": []
    },
    {
      "cell_type": "code",
      "source": [
        "# read the test image\n",
        "image = cv2.imread('../input/test-data/test.png')\n",
        "gray = cv2.cvtColor(image, cv2.COLOR_BGR2GRAY)\n",
        "blurred = cv2.GaussianBlur(gray, (5, 5), 0)\n",
        "edged = cv2.Canny(blurred, 30, 150)\n",
        "# we used contour plotting to recognise a digit or operator in an image\n",
        "cnts = cv2.findContours(edged.copy(), cv2.RETR_EXTERNAL,cv2.CHAIN_APPROX_SIMPLE)\n",
        "cnts = imutils.grab_contours(cnts)\n",
        "cnts = sort_contours(cnts, method=\"left-to-right\")[0]\n",
        "# draw a rectangular box around the recognised digit and opertor in the image\n",
        "chars=[]\n",
        "for c in cnts:\n",
        "    (x, y, w, h) = cv2.boundingRect(c)\n",
        "    if w*h>1200:\n",
        "        roi = gray[y:y + h, x:x + w]\n",
        "        chars.append(prediction(roi))\n",
        "        cv2.rectangle(image, (x, y), (x + w, y + h), (0, 255, 0), 2)"
      ],
      "metadata": {
        "execution": {
          "iopub.status.busy": "2021-06-29T13:29:34.089641Z",
          "iopub.execute_input": "2021-06-29T13:29:34.090008Z",
          "iopub.status.idle": "2021-06-29T13:29:34.615593Z",
          "shell.execute_reply.started": "2021-06-29T13:29:34.089975Z",
          "shell.execute_reply": "2021-06-29T13:29:34.613283Z"
        },
        "trusted": true,
        "id": "3Dulqm6DVuz5"
      },
      "execution_count": null,
      "outputs": []
    },
    {
      "cell_type": "code",
      "source": [
        "plt.figure(figsize=(10,10))\n",
        "plt.imshow(image)"
      ],
      "metadata": {
        "execution": {
          "iopub.status.busy": "2021-06-29T13:29:39.818453Z",
          "iopub.execute_input": "2021-06-29T13:29:39.818824Z",
          "iopub.status.idle": "2021-06-29T13:29:40.05082Z",
          "shell.execute_reply.started": "2021-06-29T13:29:39.818789Z",
          "shell.execute_reply": "2021-06-29T13:29:40.049905Z"
        },
        "trusted": true,
        "id": "ReLoEr_sVuz5"
      },
      "execution_count": null,
      "outputs": []
    },
    {
      "cell_type": "code",
      "source": [
        "# chars is list of predicted digit/operator and their corresponding index\n",
        "chars"
      ],
      "metadata": {
        "execution": {
          "iopub.status.busy": "2021-06-29T13:29:44.92826Z",
          "iopub.execute_input": "2021-06-29T13:29:44.928575Z",
          "iopub.status.idle": "2021-06-29T13:29:44.937363Z",
          "shell.execute_reply.started": "2021-06-29T13:29:44.928545Z",
          "shell.execute_reply": "2021-06-29T13:29:44.936556Z"
        },
        "trusted": true,
        "id": "QED-zSzuVuz5"
      },
      "execution_count": null,
      "outputs": []
    },
    {
      "cell_type": "code",
      "source": [
        "labels=[i for i in train_set.class_indices]\n",
        "print(labels)"
      ],
      "metadata": {
        "execution": {
          "iopub.status.busy": "2021-06-29T13:29:49.808354Z",
          "iopub.execute_input": "2021-06-29T13:29:49.808666Z",
          "iopub.status.idle": "2021-06-29T13:29:49.813268Z",
          "shell.execute_reply.started": "2021-06-29T13:29:49.808637Z",
          "shell.execute_reply": "2021-06-29T13:29:49.812453Z"
        },
        "trusted": true,
        "id": "1eg8LnHsVuz5"
      },
      "execution_count": null,
      "outputs": []
    },
    {
      "cell_type": "code",
      "source": [
        "# a is a list of all the digits and operators that are involved in the expression given, as test image\n",
        "# b is a list which consist of values of length, of a, at which an operator is found\n",
        "a = []\n",
        "b = []\n",
        "for i in ((chars)):\n",
        "    if len(a)==0 and i[0][0] in labels[3:]:\n",
        "        a.append(i[0][0])\n",
        "    elif len(a)>0 and i[0][0] in labels[4:14]:\n",
        "        a.append(i[0][0])\n",
        "    elif len(a)>0 and i[0][0] in labels[:4]:\n",
        "        a.append(i[0][0])\n",
        "        b.append(len(a))\n",
        "    else:\n",
        "        pass"
      ],
      "metadata": {
        "execution": {
          "iopub.status.busy": "2021-06-29T13:29:54.247459Z",
          "iopub.execute_input": "2021-06-29T13:29:54.247808Z",
          "iopub.status.idle": "2021-06-29T13:29:54.255255Z",
          "shell.execute_reply.started": "2021-06-29T13:29:54.247758Z",
          "shell.execute_reply": "2021-06-29T13:29:54.254295Z"
        },
        "trusted": true,
        "id": "Kc1nGK_9Vuz5"
      },
      "execution_count": null,
      "outputs": []
    },
    {
      "cell_type": "code",
      "source": [
        "# implement the calculator after image recognition\n",
        "x = 0\n",
        "for i in b:\n",
        "    if a[i-1]=='+':\n",
        "        if ((b.index(i))==0 and len(b)==1):\n",
        "            x =  (int(''.join(a[:i-1]))) + (int(''.join(a[i:])))\n",
        "        elif ((b.index(i)) == 0):\n",
        "            x = (int(''.join(a[:i-1]))) + (int(''.join(a[i : (b[1]-1)])))\n",
        "        elif (((b.index(i)) > 0) & (b.index(i)) != (len(b)-1)):\n",
        "            x = x + (int(''.join(a[i : (b[b.index(i)+1]-1)])))\n",
        "        elif (b.index(i) == (len(b)-1)):\n",
        "            x = x + (int(''.join(a[i : len(a)])))\n",
        "    elif a[i-1]=='%':\n",
        "        if ((b.index(i))==0 and len(b)==1):\n",
        "            x =  (int(''.join(a[:i-1]))) / (int(''.join(a[i:])))\n",
        "        elif ((b.index(i)) == 0):\n",
        "            x = (int(''.join(a[:i-1]))) / (int(''.join(a[i : (b[1]-1)])))\n",
        "        elif (((b.index(i)) > 0) & (b.index(i)) != (len(b)-1)):\n",
        "            x = x  / (int(''.join(a[i : (b[b.index(i)+1]-1)])))\n",
        "        elif (b.index(i) == (len(b)-1)):\n",
        "            x = x  / (int(''.join(a[i : len(a)])))\n",
        "    elif a[i-1]=='*':\n",
        "        if ((b.index(i))==0 and len(b)==1):\n",
        "            x =  (int(''.join(a[:i-1]))) * (int(''.join(a[i:])))\n",
        "        elif ((b.index(i)) == 0):\n",
        "            x = (int(''.join(a[:i-1]))) * (int(''.join(a[i : (b[1]-1)])))\n",
        "        elif (((b.index(i)) > 0) & (b.index(i)) != (len(b)-1)):\n",
        "            x = x  * (int(''.join(a[i : (b[b.index(i)+1]-1)])))\n",
        "        elif (b.index(i) == (len(b)-1)):\n",
        "            x = x  * (int(''.join(a[i :])))\n",
        "    else:\n",
        "        if ((b.index(i))==0 and len(b)==1):\n",
        "            x =  (int(''.join(a[:i-1]))) - (int(''.join(a[i:])))\n",
        "        elif ((b.index(i)) == 0):\n",
        "            x = (int(''.join(a[:i-1]))) - (int(''.join(a[i : (b[1]-1)])))\n",
        "        elif (((b.index(i)) > 0) & (b.index(i)) != (len(b)-1)):\n",
        "            x = x  - (int(''.join(a[i : (b[b.index(i)+1]-1)])))\n",
        "        elif (b.index(i) == (len(b)-1)):\n",
        "            x = x  - (int(''.join(a[i : len(a)])))\n",
        "print('The result of given operation is - ')\n",
        "print(x)"
      ],
      "metadata": {
        "execution": {
          "iopub.status.busy": "2021-06-29T13:29:57.931326Z",
          "iopub.execute_input": "2021-06-29T13:29:57.931648Z",
          "iopub.status.idle": "2021-06-29T13:29:57.952895Z",
          "shell.execute_reply.started": "2021-06-29T13:29:57.931619Z",
          "shell.execute_reply": "2021-06-29T13:29:57.952071Z"
        },
        "trusted": true,
        "id": "N13ma31KVuz6"
      },
      "execution_count": null,
      "outputs": []
    },
    {
      "cell_type": "code",
      "source": [],
      "metadata": {
        "id": "Yj_n7TxtVuz6"
      },
      "execution_count": null,
      "outputs": []
    }
  ]
}